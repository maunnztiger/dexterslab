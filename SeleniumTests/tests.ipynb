{
 "cells": [
  {
   "cell_type": "code",
   "execution_count": 2,
   "metadata": {},
   "outputs": [
    {
     "name": "stdout",
     "output_type": "stream",
     "text": [
      "testing started\n",
      "Test 0: `title` test passed\n"
     ]
    }
   ],
   "source": [
    "from selenium import webdriver\n",
    "from selenium.webdriver.common.by import By\n",
    "from time import sleep\n",
    "\n",
    "print(\"testing started\")\n",
    "driver = webdriver.Firefox()\n",
    "driver.get(\"http://localhost:8080\")\n",
    "title = driver.title\n",
    "assert \"Homeoffice\" in title\n",
    "print(\"Test 0: `title` test passed\")\n",
    "sleep(3)\n",
    "\n",
    "menu_button = driver.find_element(by=By.ID,value=\"menuButton\")\n",
    "menu_button.click()\n",
    "driver.implicitly_wait(0.5)\n",
    "driver.find_element(by=By.LINK_TEXT, value=\"Homeoffice general data\")\n",
    "driver.find_element(by=By.LINK_TEXT, value=\"Men in Homeoffice data\")\n",
    "driver.find_element(by=By.LINK_TEXT, value=\"Employees in Homeoffice\")\n",
    "\n",
    "sleep(3)\n",
    "\n",
    "menu_button = driver.find_element(by=By.ID,value=\"menuButton\")\n",
    "menu_button.click()       \n",
    "menu_link_general = driver.find_element(by=By.LINK_TEXT, value=\"Homeoffice general data\")\n",
    "menu_link_general.click()\n",
    "driver.find_element(by=By.ID,value=\"table_raw\")\n",
    " \n",
    "\n",
    "menu_button = driver.find_element(by=By.ID,value=\"menuButton\")\n",
    "menu_button.click()\n",
    "driver.find_element(by=By.ID,value=\"menuButton\")\n",
    "\n",
    "driver.quit()\n",
    "\n",
    "\n"
   ]
  }
 ],
 "metadata": {
  "kernelspec": {
   "display_name": ".venv",
   "language": "python",
   "name": "python3"
  },
  "language_info": {
   "codemirror_mode": {
    "name": "ipython",
    "version": 3
   },
   "file_extension": ".py",
   "mimetype": "text/x-python",
   "name": "python",
   "nbconvert_exporter": "python",
   "pygments_lexer": "ipython3",
   "version": "3.11.7"
  }
 },
 "nbformat": 4,
 "nbformat_minor": 2
}
